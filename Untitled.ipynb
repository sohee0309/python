{
 "cells": [
  {
   "cell_type": "code",
   "execution_count": 1,
   "metadata": {},
   "outputs": [
    {
     "name": "stdout",
     "output_type": "stream",
     "text": [
      "90\n"
     ]
    }
   ],
   "source": [
    "# 1000 ~ 9999까지 (1000과 9999도 계산에 포함)의 네 자리 숫자 가운데에 '10'을 포함하는 숫자의 갯수는?\n",
    "\n",
    "seat = [0, 1, 0, 0]\n",
    "cnt = 0\n",
    "\n",
    "for i in range(0, 9):\n",
    "    seat.insert(0, i + 1)\n",
    "    for j in range(0, 10):\n",
    "        seat.insert(1, j)\n",
    "        cnt += 1\n",
    "        \n",
    "print(cnt)"
   ]
  },
  {
   "cell_type": "code",
   "execution_count": 2,
   "metadata": {},
   "outputs": [
    {
     "name": "stdout",
     "output_type": "stream",
     "text": [
      "100\n"
     ]
    }
   ],
   "source": [
    "# 10 ~ 99999까지 (10과 99999도 계산에 포함)의 숫자 가운데에 20의 배수이며 '080'을 포함하는 숫자의 갯수는?\n",
    "\n",
    "seat = [0, 0, 8, 0, 0]\n",
    "cnt = 0\n",
    "\n",
    "for i in range(0, 10):\n",
    "    seat.insert(0, i)\n",
    "    for j in range(0, 10):\n",
    "        seat.insert(4, j)\n",
    "        cnt += 1\n",
    "                        \n",
    "print(cnt)"
   ]
  },
  {
   "cell_type": "code",
   "execution_count": 5,
   "metadata": {},
   "outputs": [
    {
     "name": "stdout",
     "output_type": "stream",
     "text": [
      "0.16659222222222222\n"
     ]
    }
   ],
   "source": [
    "import random\n",
    "\n",
    "hos=0\n",
    "for m in range(900000) :\n",
    "    i=4\n",
    "    for n in range(0,18) : \n",
    "        if(i==0):\n",
    "            ex=[1,3]\n",
    "            i=random.choice(ex)\n",
    "        if(i==1):\n",
    "            ex=[0,2,4]\n",
    "            i=random.choice(ex)\n",
    "        if(i==2):\n",
    "            ex=[1,5]\n",
    "            i=random.choice(ex)\n",
    "        if(i==3):\n",
    "            ex=[0,4,6]\n",
    "            i=random.choice(ex)\n",
    "        if(i==4):\n",
    "            ex=[1,3,5,7]\n",
    "            i=random.choice(ex)\n",
    "        if(i==5):\n",
    "            ex=[2,4,8]\n",
    "            i=random.choice(ex)\n",
    "        if(i==6):\n",
    "            ex=[3,7]\n",
    "            i=random.choice(ex)\n",
    "        if(i==7):\n",
    "            ex=[4,6,8]\n",
    "            i=random.choice(ex)\n",
    "        if(i==8):\n",
    "            ex=[5,7]\n",
    "            i=random.choice(ex)\n",
    "    if i==0: hos+=1\n",
    "        \n",
    "print(hos/900000)\n"
   ]
  },
  {
   "cell_type": "code",
   "execution_count": null,
   "metadata": {},
   "outputs": [],
   "source": []
  }
 ],
 "metadata": {
  "kernelspec": {
   "display_name": "Python 3",
   "language": "python",
   "name": "python3"
  },
  "language_info": {
   "codemirror_mode": {
    "name": "ipython",
    "version": 3
   },
   "file_extension": ".py",
   "mimetype": "text/x-python",
   "name": "python",
   "nbconvert_exporter": "python",
   "pygments_lexer": "ipython3",
   "version": "3.8.3"
  }
 },
 "nbformat": 4,
 "nbformat_minor": 4
}
