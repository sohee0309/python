{
 "cells": [
  {
   "cell_type": "code",
   "execution_count": 145,
   "metadata": {},
   "outputs": [],
   "source": [
    "class MyDeque:\n",
    "    def __init__(self):\n",
    "        self.mydeque = []\n",
    "    def __str__(self):\n",
    "        return \"mydeque([{}])\".format(\",\".join(self.mydeque))\n",
    "    def __repr__(self):\n",
    "        return \"mydeque([{}])\".format(\",\".join(self.mydeque))\n",
    "    def func(self, e):\n",
    "        e = e.split(' ')\n",
    "        if e[0] == 'push_front':\n",
    "            return self.push_front(e[1])\n",
    "        elif e[0] == 'push_back':\n",
    "            return self.push_back(e[1])\n",
    "        elif e[0] == 'pop_front':\n",
    "            return self.pop_front()\n",
    "        elif e[0] == 'pop_back':\n",
    "            return self.pop_back()\n",
    "        elif e[0] == 'size':\n",
    "            return self.size()\n",
    "        elif e[0] == 'empty':\n",
    "            return self.empty()\n",
    "        elif e[0] == 'front':\n",
    "            return self.front()\n",
    "        elif e[0] == 'back':\n",
    "            return self.back()\n",
    "\n",
    "    def push_front(self, e):\n",
    "        self.mydeque.insert(0, e)\n",
    "    def push_back(self, e):\n",
    "        self.mydeque.append(e)\n",
    "    def pop_front(self):\n",
    "        if self.empty() == 0:\n",
    "            return self.mydeque.pop(0)\n",
    "        else:\n",
    "            return -1\n",
    "    def pop_back(self):\n",
    "        if self.empty() == 0:\n",
    "            return self.mydeque.pop(-1)\n",
    "        else:\n",
    "            return -1\n",
    "    def size(self):\n",
    "        return len(self.mydeque)\n",
    "    def empty(self):\n",
    "        if self.size() == 0:\n",
    "            return 1\n",
    "        else:\n",
    "            return 0\n",
    "    def front(self):\n",
    "        if self.empty() == 0:\n",
    "            return self.mydeque[0]\n",
    "        else:\n",
    "            return -1\n",
    "    def back(self):\n",
    "        if self.empty() == 0:\n",
    "            return self.mydeque[-1]\n",
    "        else:\n",
    "            return -1\n",
    "\n",
    "#print(mydeque): 현재 덱 출력\n",
    "#mydeque: 현재 덱 출력\n",
    "#현재 덱 출력 결과: e.g. 덱에 들어있는 값이 1, 2, 3 정수들일때 --> mydeque([1, 2, 3])\n",
    "#본인이 만든 deque 모든 함수들의 사용예시 각자 제시할 것"
   ]
  },
  {
   "cell_type": "code",
   "execution_count": 146,
   "metadata": {},
   "outputs": [],
   "source": [
    "mydeque = MyDeque()"
   ]
  },
  {
   "cell_type": "code",
   "execution_count": 147,
   "metadata": {},
   "outputs": [],
   "source": [
    "mydeque.func('push_front 2')\n",
    "mydeque.func('push_back 3')\n",
    "mydeque.func('push_front 1')"
   ]
  },
  {
   "cell_type": "code",
   "execution_count": 148,
   "metadata": {},
   "outputs": [
    {
     "name": "stdout",
     "output_type": "stream",
     "text": [
      "mydeque([1,2,3])\n"
     ]
    }
   ],
   "source": [
    "print(mydeque)"
   ]
  },
  {
   "cell_type": "code",
   "execution_count": 149,
   "metadata": {},
   "outputs": [
    {
     "name": "stdout",
     "output_type": "stream",
     "text": [
      "1\n"
     ]
    }
   ],
   "source": [
    "print(mydeque.func('front'))"
   ]
  },
  {
   "cell_type": "code",
   "execution_count": 150,
   "metadata": {},
   "outputs": [
    {
     "name": "stdout",
     "output_type": "stream",
     "text": [
      "3\n"
     ]
    }
   ],
   "source": [
    "print(mydeque.func('size'))"
   ]
  },
  {
   "cell_type": "code",
   "execution_count": 151,
   "metadata": {},
   "outputs": [
    {
     "name": "stdout",
     "output_type": "stream",
     "text": [
      "3\n"
     ]
    }
   ],
   "source": [
    "print(mydeque.func('back'))"
   ]
  },
  {
   "cell_type": "code",
   "execution_count": 152,
   "metadata": {},
   "outputs": [
    {
     "name": "stdout",
     "output_type": "stream",
     "text": [
      "0\n"
     ]
    }
   ],
   "source": [
    "print(mydeque.func('empty'))"
   ]
  },
  {
   "cell_type": "code",
   "execution_count": 153,
   "metadata": {},
   "outputs": [
    {
     "name": "stdout",
     "output_type": "stream",
     "text": [
      "3\n"
     ]
    }
   ],
   "source": [
    "print(mydeque.func('pop_back'))"
   ]
  },
  {
   "cell_type": "code",
   "execution_count": 154,
   "metadata": {},
   "outputs": [
    {
     "name": "stdout",
     "output_type": "stream",
     "text": [
      "1\n"
     ]
    }
   ],
   "source": [
    "print(mydeque.func('pop_front'))"
   ]
  },
  {
   "cell_type": "code",
   "execution_count": 155,
   "metadata": {},
   "outputs": [
    {
     "name": "stdout",
     "output_type": "stream",
     "text": [
      "mydeque([2])\n"
     ]
    }
   ],
   "source": [
    "print(mydeque)"
   ]
  },
  {
   "cell_type": "code",
   "execution_count": 156,
   "metadata": {},
   "outputs": [
    {
     "data": {
      "text/plain": [
       "mydeque([2])"
      ]
     },
     "execution_count": 156,
     "metadata": {},
     "output_type": "execute_result"
    }
   ],
   "source": [
    "mydeque"
   ]
  },
  {
   "cell_type": "code",
   "execution_count": null,
   "metadata": {},
   "outputs": [],
   "source": []
  }
 ],
 "metadata": {
  "kernelspec": {
   "display_name": "Python 3",
   "language": "python",
   "name": "python3"
  },
  "language_info": {
   "codemirror_mode": {
    "name": "ipython",
    "version": 3
   },
   "file_extension": ".py",
   "mimetype": "text/x-python",
   "name": "python",
   "nbconvert_exporter": "python",
   "pygments_lexer": "ipython3",
   "version": "3.8.3"
  }
 },
 "nbformat": 4,
 "nbformat_minor": 4
}
