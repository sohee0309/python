{
 "cells": [
  {
   "cell_type": "code",
   "execution_count": 1,
   "metadata": {},
   "outputs": [
    {
     "name": "stdout",
     "output_type": "stream",
     "text": [
      "5 6\n",
      "[[0, inf, inf, inf, inf], [inf, 0, inf, inf, inf], [inf, inf, 0, inf, inf], [inf, inf, inf, 0, inf], [inf, inf, inf, inf, 0]]\n"
     ]
    }
   ],
   "source": [
    "inputs = list(map(int, input().split(' ')))\n",
    "assert len(inputs) == 2\n",
    "# V = 정점(Vertex), E = 간선(Edge)\n",
    "V, E = inputs # 정점의 개수, 간선의 개수\n",
    "\n",
    "# 모든 정점으로부터 모든 정점까지의 가중치를 담은 2차행렬\n",
    "distance_map = [[float('inf') if i != j else 0 for i in range(V)] for j in range(V)]\n",
    "print(distance_map)"
   ]
  },
  {
   "cell_type": "code",
   "execution_count": 2,
   "metadata": {},
   "outputs": [
    {
     "name": "stdout",
     "output_type": "stream",
     "text": [
      "5 1 1\n",
      "1 2 2\n",
      "1 3 3\n",
      "2 3 4\n",
      "2 4 5\n",
      "3 4 6\n"
     ]
    }
   ],
   "source": [
    "for i in range(E):\n",
    "    inputs = list(map(int, input().split(' ')))\n",
    "    assert len(inputs) == 3\n",
    "    u, v, w = inputs # u에서 v로 가는 가중치 w\n",
    "    distance_map[u-1][v-1] = w"
   ]
  },
  {
   "cell_type": "code",
   "execution_count": 3,
   "metadata": {},
   "outputs": [
    {
     "name": "stdout",
     "output_type": "stream",
     "text": [
      "[[0, 2, 3, inf, inf], [inf, 0, 4, 5, inf], [inf, inf, 0, 6, inf], [inf, inf, inf, 0, inf], [1, inf, inf, inf, 0]]\n"
     ]
    }
   ],
   "source": [
    "print(distance_map)"
   ]
  },
  {
   "cell_type": "code",
   "execution_count": 4,
   "metadata": {},
   "outputs": [],
   "source": [
    "distance_list = [0] * V\n",
    "visited = [False] * V"
   ]
  },
  {
   "cell_type": "code",
   "execution_count": 5,
   "metadata": {},
   "outputs": [],
   "source": [
    "def min_choose(distance_list, visited):\n",
    "    min = 2147483647\n",
    "    minpos = -1\n",
    "\n",
    "    for i in range(V):\n",
    "        if distance_list[i] < min and visited[i] == False:\n",
    "            min = distance_list[i]\n",
    "            minpos = i\n",
    "\n",
    "    return minpos"
   ]
  },
  {
   "cell_type": "code",
   "execution_count": 6,
   "metadata": {},
   "outputs": [],
   "source": [
    "def shortest_path(start, distance_list, visited):\n",
    "    for i in range(V):\n",
    "        distance_list[i] = distance_map[start][i]\n",
    "    visited[start] = True\n",
    "\n",
    "    for i in range(V - 2):\n",
    "        u = min_choose(distance_list, visited)\n",
    "        visited[u] = True\n",
    "        for j in range(V):\n",
    "            if not visited[j]:\n",
    "                if distance_list[u] + distance_map[u][j] < distance_list[j]:\n",
    "                    distance_list[j] = distance_list[u] + distance_map[u][j]\n",
    "    return distance_list"
   ]
  },
  {
   "cell_type": "code",
   "execution_count": 8,
   "metadata": {},
   "outputs": [
    {
     "name": "stdout",
     "output_type": "stream",
     "text": [
      "수행 시간 : 0.000000초\n",
      "결과 값 : \n",
      "0\n",
      "2\n",
      "3\n",
      "7\n",
      "INF\n"
     ]
    }
   ],
   "source": [
    "import time\n",
    "\n",
    "if __name__ == '__main__':\n",
    "    s = time.time()\n",
    "    result = shortest_path(0, distance_list, visited)\n",
    "    e = time.time()\n",
    "    print(\"수행 시간 : {0:3.6f}초\".format(e - s))\n",
    "    print(\"결과 값 : \")\n",
    "    for dist in result:\n",
    "        if dist == float('inf'):\n",
    "            print('INF')\n",
    "        else:\n",
    "            print(dist)"
   ]
  },
  {
   "cell_type": "code",
   "execution_count": null,
   "metadata": {},
   "outputs": [],
   "source": []
  }
 ],
 "metadata": {
  "kernelspec": {
   "display_name": "Python 3",
   "language": "python",
   "name": "python3"
  },
  "language_info": {
   "codemirror_mode": {
    "name": "ipython",
    "version": 3
   },
   "file_extension": ".py",
   "mimetype": "text/x-python",
   "name": "python",
   "nbconvert_exporter": "python",
   "pygments_lexer": "ipython3",
   "version": "3.8.3"
  }
 },
 "nbformat": 4,
 "nbformat_minor": 4
}
